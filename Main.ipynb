{
 "cells": [
  {
   "cell_type": "code",
   "execution_count": 31,
   "metadata": {},
   "outputs": [],
   "source": [
    "import scipy.io\n",
    "import numpy as np\n",
    "import pandas as pd\n",
    "import math\n",
    "import matplotlib.pyplot as plt"
   ]
  },
  {
   "cell_type": "code",
   "execution_count": 32,
   "metadata": {},
   "outputs": [],
   "source": [
    "mat = scipy.io.loadmat('data.mat')\n",
    "task_f1 = mat['F1']\n",
    "task_f2 = mat['F2']"
   ]
  },
  {
   "cell_type": "code",
   "execution_count": 33,
   "metadata": {},
   "outputs": [],
   "source": [
    "f1_np = np.array(task_f1)\n",
    "f2_np = np.array(task_f2)"
   ]
  },
  {
   "cell_type": "code",
   "execution_count": 34,
   "metadata": {},
   "outputs": [],
   "source": [
    "col_names = [\"C1\", \"C2\", \"C3\", \"C4\", \"C5\"]"
   ]
  },
  {
   "cell_type": "code",
   "execution_count": 35,
   "metadata": {},
   "outputs": [],
   "source": [
    "f1_df = pd.DataFrame(data = f1_np, columns = col_names)\n",
    "f2_df = pd.DataFrame(data = f2_np, columns = col_names)\n",
    "f1_train = f1_df.head(100)\n",
    "f2_train = f2_df.head(100)\n",
    "f1_test = f1_df.tail(900)\n",
    "f2_test = f2_df.tail(900)"
   ]
  },
  {
   "cell_type": "markdown",
   "metadata": {},
   "source": [
    "### 1 Training"
   ]
  },
  {
   "cell_type": "code",
   "execution_count": 36,
   "metadata": {},
   "outputs": [],
   "source": [
    "f1_desc = f1_train.describe()"
   ]
  },
  {
   "cell_type": "code",
   "execution_count": 37,
   "metadata": {},
   "outputs": [],
   "source": [
    "f2_desc = f2_train.describe()"
   ]
  },
  {
   "cell_type": "code",
   "execution_count": 38,
   "metadata": {},
   "outputs": [],
   "source": [
    "f1_mean = {}; f2_mean = {}; f1_var = {}; f2_var = {}\n",
    "for col_name in col_names:\n",
    "    f1_mean[col_name] = f1_desc[col_name][\"mean\"]\n",
    "    f2_mean[col_name] = f2_desc[col_name][\"mean\"]\n",
    "    f1_var[col_name] = f1_desc[col_name][\"std\"]**2\n",
    "    f2_var[col_name] = f2_desc[col_name][\"std\"]**2"
   ]
  },
  {
   "cell_type": "markdown",
   "metadata": {},
   "source": [
    "### 2.1 Testing"
   ]
  },
  {
   "cell_type": "code",
   "execution_count": 39,
   "metadata": {},
   "outputs": [],
   "source": [
    "def get_prob_for_class(data_point, class_mean, class_variance):\n",
    "    # use the normal pmf of a class to predict the prob of the data point\n",
    "    exp_power = (-1/(2*class_variance)) * (data_point - class_mean)**2\n",
    "    exp_term = math.exp(exp_power)\n",
    "    denom_term = 1/(2*math.pi * class_variance)**(1/2)\n",
    "    return denom_term * exp_term\n",
    "\n",
    "def get_prediction(data_point, all_class_mean, all_class_variance):\n",
    "    # gets the data point, the mean and standard deviation for every class/task\n",
    "    # returns the class and the probability of the winning class\n",
    "    task_names = [\"C1\", \"C2\", \"C3\", \"C4\", \"C5\"];\n",
    "    highest_prob = 0\n",
    "    highest_prob_class = \"\"\n",
    "    for task_name in task_names:\n",
    "        prob = get_prob_for_class(data_point, all_class_mean[task_name], all_class_variance[task_name])\n",
    "        #print(\"  Prob of belonging to: \"+task_name+\" is: \"+str(round(prob, 2)))\n",
    "        if prob > highest_prob:\n",
    "            highest_prob = prob\n",
    "            highest_prob_class = task_name\n",
    "            \n",
    "    result = {'class' : highest_prob_class, 'prob': round(highest_prob, 2)}\n",
    "    return result"
   ]
  },
  {
   "cell_type": "code",
   "execution_count": 40,
   "metadata": {},
   "outputs": [],
   "source": [
    "ctr = 0;\n",
    "correct_pred = 0;\n",
    "for test_row_index in f1_test.index:\n",
    "    # run through all the rows\n",
    "    test_row = f1_test.loc[test_row_index]\n",
    "    hightest_prob = 0;\n",
    "    hightest_prob_class = \"\";\n",
    "    # run through each column/data point in a row\n",
    "    for task_name in col_names:\n",
    "        prediction = get_prediction(test_row[task_name], f1_mean, f1_var)\n",
    "        if prediction['class'] == task_name:\n",
    "            correct_pred = correct_pred + 1\n",
    "        #print(str(test_row_index)+\", \"+task_name+\":\"+str(test_row[task_name]) +\", Pred: \"+prediction['class']+\", Prob:\"+str(prediction['prob']))\n",
    "    #ctr = ctr + 1\n",
    "    #if ctr == 1:\n",
    "    #    break\n",
    "\n",
    "accuracy = (correct_pred / 4500)*100\n",
    "error = 100-accuracy"
   ]
  },
  {
   "cell_type": "code",
   "execution_count": 41,
   "metadata": {},
   "outputs": [
    {
     "name": "stdout",
     "output_type": "stream",
     "text": [
      "Prediction accuracy for F1 is: 53.0, and error is: 47.0\n"
     ]
    }
   ],
   "source": [
    "print(\"Prediction accuracy for F1 is: \"+str(round(accuracy, 2))+\", and error is: \"+str(round(error, 2)))"
   ]
  },
  {
   "cell_type": "markdown",
   "metadata": {},
   "source": [
    "### 3 Standard normal (Z-score)"
   ]
  },
  {
   "cell_type": "code",
   "execution_count": 50,
   "metadata": {},
   "outputs": [],
   "source": [
    "def aggregate_data_points(measurement_data_frame):\n",
    "    data_points = list()\n",
    "    classes = list()\n",
    "    count = f1_test.shape[0]\n",
    "    for i in range(5):\n",
    "        data_points.append(measurement_data_frame.iloc[:, i])\n",
    "        classes.append([i]*count)\n",
    "    result = {'data_points': list(data_points), 'classes' : classes}\n",
    "    return result\n",
    "\n",
    "def plot_measurements(measure1, measure2, title):\n",
    "    task_names = [\"C1\", \"C2\", \"C3\", \"C4\", \"C5\"]\n",
    "    color = [\"coral\", \"lightblue\", \"lightgreen\", \"pink\", \"purple\"]\n",
    "    ctr = 0;\n",
    "    for task_name in task_names:\n",
    "        plt.scatter(measure1[task_name], measure2[task_name], c=color[ctr])\n",
    "        ctr = ctr + 1\n",
    "    plt.title(title)\n",
    "    plt.xlabel('F1')\n",
    "    plt.ylabel('F2')\n",
    "    plt.show()\n",
    "    \n",
    "def get_stats(meas_df_train):\n",
    "    df_desc = meas_df_train.describe()\n",
    "    mean = {}; var = {};\n",
    "    col_names = [\"C1\", \"C2\", \"C3\", \"C4\", \"C5\"]\n",
    "    for col_name in col_names:\n",
    "        mean[col_name] = df_desc[col_name][\"mean\"]\n",
    "        var[col_name] = df_desc[col_name][\"std\"]**2\n",
    "    return {'mean' : mean, 'var': var}\n",
    "\n",
    "def normalize_data(measurement_dataframe):\n",
    "    mat = scipy.io.loadmat('data.mat')\n",
    "    f1=mat['F1']\n",
    "    f2=mat['F2']\n",
    "    task_names = [\"C1\", \"C2\", \"C3\", \"C4\", \"C5\"]\n",
    "    stats = get_stats(measurement_dataframe)\n",
    "    mean = stats['mean']\n",
    "    var = stats['var']\n",
    "    normalized_data = {}\n",
    "    daf1 = pd.DataFrame({'C1':f1[:,0],'C2':f1[:,1],'C3':f1[:,2],'C4':f1[:,3],'C5':f1[:,4]})\n",
    "    daf1\n",
    "    \n",
    "    for i in range(daf1.shape[0]):\n",
    "        for j in range(daf1.shape[1]):\n",
    "            daf1.iloc[i,j]=(daf1.iloc[i,j]-np.mean(daf1.iloc[i,:]))/np.std(daf1.iloc[i,:])\n",
    "    \n",
    "    return daf1\n",
    "\n",
    "def predict_complete(f1_norm_test, stats):\n",
    "    ctr = 0;\n",
    "    correct_pred = 0;\n",
    "    for test_row_index in f1_norm_test.index:\n",
    "        # run through all the rows\n",
    "        test_row = f1_norm_test.loc[test_row_index]\n",
    "        hightest_prob = 0;\n",
    "        hightest_prob_class = \"\";\n",
    "        # run through each column/data point in a row\n",
    "        for task_name in col_names:\n",
    "            prediction = get_prediction(test_row[task_name], stats['mean'], stats['var'])\n",
    "            if prediction['class'] == task_name:\n",
    "                correct_pred = correct_pred + 1\n",
    "            \n",
    "    accuracy = (correct_pred / 4500)*100\n",
    "    return accuracy;"
   ]
  },
  {
   "cell_type": "code",
   "execution_count": 51,
   "metadata": {},
   "outputs": [
    {
     "data": {
      "text/html": [
       "<div>\n",
       "<style scoped>\n",
       "    .dataframe tbody tr th:only-of-type {\n",
       "        vertical-align: middle;\n",
       "    }\n",
       "\n",
       "    .dataframe tbody tr th {\n",
       "        vertical-align: top;\n",
       "    }\n",
       "\n",
       "    .dataframe thead th {\n",
       "        text-align: right;\n",
       "    }\n",
       "</style>\n",
       "<table border=\"1\" class=\"dataframe\">\n",
       "  <thead>\n",
       "    <tr style=\"text-align: right;\">\n",
       "      <th></th>\n",
       "      <th>C1</th>\n",
       "      <th>C2</th>\n",
       "      <th>C3</th>\n",
       "      <th>C4</th>\n",
       "      <th>C5</th>\n",
       "    </tr>\n",
       "  </thead>\n",
       "  <tbody>\n",
       "    <tr>\n",
       "      <td>0</td>\n",
       "      <td>-0.482923</td>\n",
       "      <td>0.229925</td>\n",
       "      <td>-0.256143</td>\n",
       "      <td>1.391828</td>\n",
       "      <td>1.981029</td>\n",
       "    </tr>\n",
       "    <tr>\n",
       "      <td>1</td>\n",
       "      <td>-0.478534</td>\n",
       "      <td>0.637172</td>\n",
       "      <td>-0.563755</td>\n",
       "      <td>1.410247</td>\n",
       "      <td>1.968096</td>\n",
       "    </tr>\n",
       "    <tr>\n",
       "      <td>2</td>\n",
       "      <td>-0.631612</td>\n",
       "      <td>0.023609</td>\n",
       "      <td>-0.335737</td>\n",
       "      <td>1.255910</td>\n",
       "      <td>1.982677</td>\n",
       "    </tr>\n",
       "    <tr>\n",
       "      <td>3</td>\n",
       "      <td>-0.401305</td>\n",
       "      <td>0.411884</td>\n",
       "      <td>-0.701382</td>\n",
       "      <td>1.409829</td>\n",
       "      <td>1.958301</td>\n",
       "    </tr>\n",
       "    <tr>\n",
       "      <td>4</td>\n",
       "      <td>-0.358164</td>\n",
       "      <td>-0.008284</td>\n",
       "      <td>-0.269970</td>\n",
       "      <td>1.431489</td>\n",
       "      <td>1.981010</td>\n",
       "    </tr>\n",
       "    <tr>\n",
       "      <td>...</td>\n",
       "      <td>...</td>\n",
       "      <td>...</td>\n",
       "      <td>...</td>\n",
       "      <td>...</td>\n",
       "      <td>...</td>\n",
       "    </tr>\n",
       "    <tr>\n",
       "      <td>995</td>\n",
       "      <td>-0.180072</td>\n",
       "      <td>0.358104</td>\n",
       "      <td>-0.376581</td>\n",
       "      <td>1.407752</td>\n",
       "      <td>1.979866</td>\n",
       "    </tr>\n",
       "    <tr>\n",
       "      <td>996</td>\n",
       "      <td>-0.288173</td>\n",
       "      <td>0.007092</td>\n",
       "      <td>-0.345132</td>\n",
       "      <td>1.430839</td>\n",
       "      <td>1.970032</td>\n",
       "    </tr>\n",
       "    <tr>\n",
       "      <td>997</td>\n",
       "      <td>-0.743168</td>\n",
       "      <td>0.254397</td>\n",
       "      <td>-0.370814</td>\n",
       "      <td>1.342941</td>\n",
       "      <td>1.974188</td>\n",
       "    </tr>\n",
       "    <tr>\n",
       "      <td>998</td>\n",
       "      <td>-0.675000</td>\n",
       "      <td>0.179821</td>\n",
       "      <td>0.154263</td>\n",
       "      <td>1.343453</td>\n",
       "      <td>1.984415</td>\n",
       "    </tr>\n",
       "    <tr>\n",
       "      <td>999</td>\n",
       "      <td>-0.492640</td>\n",
       "      <td>0.245885</td>\n",
       "      <td>-0.872190</td>\n",
       "      <td>1.624630</td>\n",
       "      <td>1.896686</td>\n",
       "    </tr>\n",
       "  </tbody>\n",
       "</table>\n",
       "<p>1000 rows × 5 columns</p>\n",
       "</div>"
      ],
      "text/plain": [
       "           C1        C2        C3        C4        C5\n",
       "0   -0.482923  0.229925 -0.256143  1.391828  1.981029\n",
       "1   -0.478534  0.637172 -0.563755  1.410247  1.968096\n",
       "2   -0.631612  0.023609 -0.335737  1.255910  1.982677\n",
       "3   -0.401305  0.411884 -0.701382  1.409829  1.958301\n",
       "4   -0.358164 -0.008284 -0.269970  1.431489  1.981010\n",
       "..        ...       ...       ...       ...       ...\n",
       "995 -0.180072  0.358104 -0.376581  1.407752  1.979866\n",
       "996 -0.288173  0.007092 -0.345132  1.430839  1.970032\n",
       "997 -0.743168  0.254397 -0.370814  1.342941  1.974188\n",
       "998 -0.675000  0.179821  0.154263  1.343453  1.984415\n",
       "999 -0.492640  0.245885 -0.872190  1.624630  1.896686\n",
       "\n",
       "[1000 rows x 5 columns]"
      ]
     },
     "execution_count": 51,
     "metadata": {},
     "output_type": "execute_result"
    }
   ],
   "source": [
    "normalize_data(f1_df)"
   ]
  },
  {
   "cell_type": "markdown",
   "metadata": {},
   "source": [
    "The plot shown below is for non-normalized values"
   ]
  },
  {
   "cell_type": "code",
   "execution_count": 52,
   "metadata": {},
   "outputs": [
    {
     "data": {
      "image/png": "[encoded data removed]",
      "text/plain": [
       "<Figure size 432x288 with 1 Axes>"
      ]
     },
     "metadata": {
      "needs_background": "light"
     },
     "output_type": "display_data"
    }
   ],
   "source": [
    "plot_measurements(f1_df, f2_df,'Non-normalized values')"
   ]
  },
  {
   "cell_type": "code",
   "execution_count": 53,
   "metadata": {},
   "outputs": [],
   "source": [
    "f1_normalized = normalize_data(f1_df)"
   ]
  },
  {
   "cell_type": "code",
   "execution_count": 54,
   "metadata": {},
   "outputs": [
    {
     "data": {
      "image/png": "[encoded data removed]",
      "text/plain": [
       "<Figure size 432x288 with 1 Axes>"
      ]
     },
     "metadata": {
      "needs_background": "light"
     },
     "output_type": "display_data"
    }
   ],
   "source": [
    "plot_measurements(f1_normalized, f2_df, 'F1 Normalized')"
   ]
  },
  {
   "cell_type": "code",
   "execution_count": 55,
   "metadata": {},
   "outputs": [],
   "source": [
    "f1_norm_train = f1_normalized.head(100)\n",
    "f1_norm_test = f1_normalized.tail(900)\n",
    "f1_train = f1_df.head(100)\n",
    "f1_test = f1_df.tail(900)"
   ]
  },
  {
   "cell_type": "code",
   "execution_count": 56,
   "metadata": {},
   "outputs": [
    {
     "data": {
      "text/plain": [
       "20.0"
      ]
     },
     "execution_count": 56,
     "metadata": {},
     "output_type": "execute_result"
    }
   ],
   "source": [
    "predict_complete(f1_norm_test, stats)"
   ]
  },
  {
   "cell_type": "code",
   "execution_count": 57,
   "metadata": {},
   "outputs": [],
   "source": [
    "stats = get_stats(f1_train)"
   ]
  },
  {
   "cell_type": "code",
   "execution_count": 58,
   "metadata": {},
   "outputs": [
    {
     "data": {
      "text/plain": [
       "53.0"
      ]
     },
     "execution_count": 58,
     "metadata": {},
     "output_type": "execute_result"
    }
   ],
   "source": [
    "stats = {'mean' : f1_mean, 'var': f1_var}\n",
    "predict_complete(f1_test, stats)"
   ]
  },
  {
   "cell_type": "code",
   "execution_count": 59,
   "metadata": {},
   "outputs": [
    {
     "data": {
      "text/html": [
       "<div>\n",
       "<style scoped>\n",
       "    .dataframe tbody tr th:only-of-type {\n",
       "        vertical-align: middle;\n",
       "    }\n",
       "\n",
       "    .dataframe tbody tr th {\n",
       "        vertical-align: top;\n",
       "    }\n",
       "\n",
       "    .dataframe thead th {\n",
       "        text-align: right;\n",
       "    }\n",
       "</style>\n",
       "<table border=\"1\" class=\"dataframe\">\n",
       "  <thead>\n",
       "    <tr style=\"text-align: right;\">\n",
       "      <th></th>\n",
       "      <th>C1</th>\n",
       "      <th>C2</th>\n",
       "      <th>C3</th>\n",
       "      <th>C4</th>\n",
       "      <th>C5</th>\n",
       "    </tr>\n",
       "  </thead>\n",
       "  <tbody>\n",
       "    <tr>\n",
       "      <td>0</td>\n",
       "      <td>7.905430</td>\n",
       "      <td>9.035490</td>\n",
       "      <td>4.534891</td>\n",
       "      <td>14.166835</td>\n",
       "      <td>11.883470</td>\n",
       "    </tr>\n",
       "    <tr>\n",
       "      <td>1</td>\n",
       "      <td>6.603707</td>\n",
       "      <td>10.298966</td>\n",
       "      <td>1.998801</td>\n",
       "      <td>12.687553</td>\n",
       "      <td>10.392322</td>\n",
       "    </tr>\n",
       "    <tr>\n",
       "      <td>2</td>\n",
       "      <td>6.108960</td>\n",
       "      <td>7.101807</td>\n",
       "      <td>3.629037</td>\n",
       "      <td>12.606273</td>\n",
       "      <td>12.205932</td>\n",
       "    </tr>\n",
       "    <tr>\n",
       "      <td>3</td>\n",
       "      <td>5.295339</td>\n",
       "      <td>7.438817</td>\n",
       "      <td>0.769919</td>\n",
       "      <td>11.009843</td>\n",
       "      <td>9.003759</td>\n",
       "    </tr>\n",
       "    <tr>\n",
       "      <td>4</td>\n",
       "      <td>8.086083</td>\n",
       "      <td>7.633613</td>\n",
       "      <td>4.485315</td>\n",
       "      <td>14.777762</td>\n",
       "      <td>11.850740</td>\n",
       "    </tr>\n",
       "  </tbody>\n",
       "</table>\n",
       "</div>"
      ],
      "text/plain": [
       "         C1         C2        C3         C4         C5\n",
       "0  7.905430   9.035490  4.534891  14.166835  11.883470\n",
       "1  6.603707  10.298966  1.998801  12.687553  10.392322\n",
       "2  6.108960   7.101807  3.629037  12.606273  12.205932\n",
       "3  5.295339   7.438817  0.769919  11.009843   9.003759\n",
       "4  8.086083   7.633613  4.485315  14.777762  11.850740"
      ]
     },
     "execution_count": 59,
     "metadata": {},
     "output_type": "execute_result"
    }
   ],
   "source": [
    "partial = f1_df.iloc[0:5,:]\n",
    "partial"
   ]
  },
  {
   "cell_type": "code",
   "execution_count": 60,
   "metadata": {},
   "outputs": [],
   "source": [
    "st = get_stats(partial)"
   ]
  },
  {
   "cell_type": "code",
   "execution_count": 61,
   "metadata": {},
   "outputs": [
    {
     "data": {
      "text/plain": [
       "{'mean': {'C1': 6.7999040519267195,\n",
       "  'C2': 8.301738365509555,\n",
       "  'C3': 3.0835922661543047,\n",
       "  'C4': 13.049653176842122,\n",
       "  'C5': 11.067244893481341},\n",
       " 'var': {'C1': 1.4140148259463967,\n",
       "  'C2': 1.7895422599396607,\n",
       "  'C3': 2.7246155367955924,\n",
       "  'C4': 2.180745210577822,\n",
       "  'C5': 1.8225479683101031}}"
      ]
     },
     "execution_count": 61,
     "metadata": {},
     "output_type": "execute_result"
    }
   ],
   "source": [
    "st"
   ]
  },
  {
   "cell_type": "code",
   "execution_count": 62,
   "metadata": {},
   "outputs": [],
   "source": [
    "part_norm = normalize_data(partial)"
   ]
  },
  {
   "cell_type": "code",
   "execution_count": 63,
   "metadata": {},
   "outputs": [
    {
     "data": {
      "text/html": [
       "<div>\n",
       "<style scoped>\n",
       "    .dataframe tbody tr th:only-of-type {\n",
       "        vertical-align: middle;\n",
       "    }\n",
       "\n",
       "    .dataframe tbody tr th {\n",
       "        vertical-align: top;\n",
       "    }\n",
       "\n",
       "    .dataframe thead th {\n",
       "        text-align: right;\n",
       "    }\n",
       "</style>\n",
       "<table border=\"1\" class=\"dataframe\">\n",
       "  <thead>\n",
       "    <tr style=\"text-align: right;\">\n",
       "      <th></th>\n",
       "      <th>C1</th>\n",
       "      <th>C2</th>\n",
       "      <th>C3</th>\n",
       "      <th>C4</th>\n",
       "      <th>C5</th>\n",
       "    </tr>\n",
       "  </thead>\n",
       "  <tbody>\n",
       "    <tr>\n",
       "      <td>0</td>\n",
       "      <td>-0.482923</td>\n",
       "      <td>0.229925</td>\n",
       "      <td>-0.256143</td>\n",
       "      <td>1.391828</td>\n",
       "      <td>1.981029</td>\n",
       "    </tr>\n",
       "    <tr>\n",
       "      <td>1</td>\n",
       "      <td>-0.478534</td>\n",
       "      <td>0.637172</td>\n",
       "      <td>-0.563755</td>\n",
       "      <td>1.410247</td>\n",
       "      <td>1.968096</td>\n",
       "    </tr>\n",
       "    <tr>\n",
       "      <td>2</td>\n",
       "      <td>-0.631612</td>\n",
       "      <td>0.023609</td>\n",
       "      <td>-0.335737</td>\n",
       "      <td>1.255910</td>\n",
       "      <td>1.982677</td>\n",
       "    </tr>\n",
       "    <tr>\n",
       "      <td>3</td>\n",
       "      <td>-0.401305</td>\n",
       "      <td>0.411884</td>\n",
       "      <td>-0.701382</td>\n",
       "      <td>1.409829</td>\n",
       "      <td>1.958301</td>\n",
       "    </tr>\n",
       "    <tr>\n",
       "      <td>4</td>\n",
       "      <td>-0.358164</td>\n",
       "      <td>-0.008284</td>\n",
       "      <td>-0.269970</td>\n",
       "      <td>1.431489</td>\n",
       "      <td>1.981010</td>\n",
       "    </tr>\n",
       "    <tr>\n",
       "      <td>...</td>\n",
       "      <td>...</td>\n",
       "      <td>...</td>\n",
       "      <td>...</td>\n",
       "      <td>...</td>\n",
       "      <td>...</td>\n",
       "    </tr>\n",
       "    <tr>\n",
       "      <td>995</td>\n",
       "      <td>-0.180072</td>\n",
       "      <td>0.358104</td>\n",
       "      <td>-0.376581</td>\n",
       "      <td>1.407752</td>\n",
       "      <td>1.979866</td>\n",
       "    </tr>\n",
       "    <tr>\n",
       "      <td>996</td>\n",
       "      <td>-0.288173</td>\n",
       "      <td>0.007092</td>\n",
       "      <td>-0.345132</td>\n",
       "      <td>1.430839</td>\n",
       "      <td>1.970032</td>\n",
       "    </tr>\n",
       "    <tr>\n",
       "      <td>997</td>\n",
       "      <td>-0.743168</td>\n",
       "      <td>0.254397</td>\n",
       "      <td>-0.370814</td>\n",
       "      <td>1.342941</td>\n",
       "      <td>1.974188</td>\n",
       "    </tr>\n",
       "    <tr>\n",
       "      <td>998</td>\n",
       "      <td>-0.675000</td>\n",
       "      <td>0.179821</td>\n",
       "      <td>0.154263</td>\n",
       "      <td>1.343453</td>\n",
       "      <td>1.984415</td>\n",
       "    </tr>\n",
       "    <tr>\n",
       "      <td>999</td>\n",
       "      <td>-0.492640</td>\n",
       "      <td>0.245885</td>\n",
       "      <td>-0.872190</td>\n",
       "      <td>1.624630</td>\n",
       "      <td>1.896686</td>\n",
       "    </tr>\n",
       "  </tbody>\n",
       "</table>\n",
       "<p>1000 rows × 5 columns</p>\n",
       "</div>"
      ],
      "text/plain": [
       "           C1        C2        C3        C4        C5\n",
       "0   -0.482923  0.229925 -0.256143  1.391828  1.981029\n",
       "1   -0.478534  0.637172 -0.563755  1.410247  1.968096\n",
       "2   -0.631612  0.023609 -0.335737  1.255910  1.982677\n",
       "3   -0.401305  0.411884 -0.701382  1.409829  1.958301\n",
       "4   -0.358164 -0.008284 -0.269970  1.431489  1.981010\n",
       "..        ...       ...       ...       ...       ...\n",
       "995 -0.180072  0.358104 -0.376581  1.407752  1.979866\n",
       "996 -0.288173  0.007092 -0.345132  1.430839  1.970032\n",
       "997 -0.743168  0.254397 -0.370814  1.342941  1.974188\n",
       "998 -0.675000  0.179821  0.154263  1.343453  1.984415\n",
       "999 -0.492640  0.245885 -0.872190  1.624630  1.896686\n",
       "\n",
       "[1000 rows x 5 columns]"
      ]
     },
     "execution_count": 63,
     "metadata": {},
     "output_type": "execute_result"
    }
   ],
   "source": [
    "part_norm"
   ]
  },
  {
   "cell_type": "code",
   "execution_count": 64,
   "metadata": {},
   "outputs": [],
   "source": [
    "st_norm = get_stats(part_norm)"
   ]
  },
  {
   "cell_type": "code",
   "execution_count": 65,
   "metadata": {},
   "outputs": [
    {
     "data": {
      "text/plain": [
       "{'mean': {'C1': -0.5594614600382845,\n",
       "  'C2': 0.32960017189082946,\n",
       "  'C3': -0.29881579004770636,\n",
       "  'C4': 1.383284764026894,\n",
       "  'C5': 1.9708252417446195},\n",
       " 'var': {'C1': 0.05578420720580066,\n",
       "  'C2': 0.03929350027909665,\n",
       "  'C3': 0.058972970621180676,\n",
       "  'C4': 0.006042965622695494,\n",
       "  'C5': 0.0004936757290966074}}"
      ]
     },
     "execution_count": 65,
     "metadata": {},
     "output_type": "execute_result"
    }
   ],
   "source": [
    "st_norm"
   ]
  },
  {
   "cell_type": "markdown",
   "metadata": {},
   "source": [
    "# Case 3: X= F2"
   ]
  },
  {
   "cell_type": "code",
   "execution_count": 126,
   "metadata": {},
   "outputs": [],
   "source": [
    "ctr1 = 0;\n",
    "correct_pred1 = 0;\n",
    "for test_row_index1 in f2_test.index:\n",
    "    # run through all the rows\n",
    "    test_row1 = f2_test.loc[test_row_index1]\n",
    "    hightest_prob1 = 0;\n",
    "    hightest_prob_class1 = \"\";\n",
    "    # run through each column/data point in a row\n",
    "    for task_name in col_names:\n",
    "        prediction = get_prediction(test_row[task_name], f2_mean, f2_var)\n",
    "        if prediction['class'] == task_name:\n",
    "            correct_pred1 = correct_pred1 + 1\n",
    "    \n",
    "\n",
    "accuracyCase3 = (correct_pred1 / 4500)*100\n",
    "errorCase3 = 100-accuracyCase3"
   ]
  },
  {
   "cell_type": "code",
   "execution_count": 127,
   "metadata": {},
   "outputs": [
    {
     "name": "stdout",
     "output_type": "stream",
     "text": [
      "Prediction accuracy for F2 is: 80.0, and error is: 20.0\n"
     ]
    }
   ],
   "source": [
    "print(\"Prediction accuracy for F2 is: \"+str(round(accuracyCase3, 2))+\", and error is: \"+str(round(errorCase3, 2)))"
   ]
  },
  {
   "cell_type": "markdown",
   "metadata": {},
   "source": [
    "# Case 4 : X=[Z1,F2]"
   ]
  },
  {
   "cell_type": "code",
   "execution_count": 130,
   "metadata": {},
   "outputs": [],
   "source": [
    "# methods to calculate the element wise probability and return the max using argmax\n",
    "def maxProbaility(l1,l2):\n",
    "    combinedList = [a*b for a,b in zip(l1,l2)]\n",
    "    return np.argmax(combinedList)+1\n",
    "\n",
    "def find_Class(data, m, sd):\n",
    "    pClass = []\n",
    "    for i in range(5):\n",
    "        exp = math.exp(-(math.pow(data-m[i],2)/(2*math.pow(sd[i],2))))\n",
    "        value = (1/(math.sqrt(2*math.pi)*sd[i]))*exp\n",
    "        pClass.append(value)\n",
    "    return pClass \n",
    "\n",
    "def mProbabValue(df_1,df_2,df_1_m,df_1_sd,df_2_m,df_2_sd,initial=100,final=1000):\n",
    "    dataframePred = pd.DataFrame(columns=['class1','class2', 'class3','class4', 'class5'])  \n",
    "    for i in range(initial,final):\n",
    "        lPList = []\n",
    "        for j in range(0,5):    \n",
    "            dValue1 = df_1.iloc[i][j]\n",
    "            dValue2 = df_2.iloc[i][j]\n",
    "            lP1 = find_Class(dValue1,df_1_m,df_1_sd)\n",
    "            lP2 = find_Class(dValue2,df_2_m,df_2_sd)\n",
    "            mL1 = maxProbaility(lP1,lP2)\n",
    "            lPList.append(mL1)\n",
    "        dataframePred.loc[i] = lPList\n",
    "    return dataframePred\n",
    "\n",
    "# method to calculate the accuracy rate\n",
    "def find_accuracy(pvalue):\n",
    "    ctr = []\n",
    "    for i in range(5):\n",
    "        c = pvalue[pvalue.iloc[:,i] == i+1].iloc[:,i].count()\n",
    "        ctr.append(c)    \n",
    "    Accuracy_Rate = (np.sum(ctr)/pvalue.size)*100\n",
    "    return Accuracy_Rate\n",
    "\n",
    "# X=[Z1 F2]\n",
    "matData = scipy.io.loadmat('data.mat')\n",
    "f1Data=matData['F1']\n",
    "f2Data=matData['F2']\n",
    "\n",
    "pd_f1 = pd.DataFrame({'C1':f1Data[:,0],'C2':f1Data[:,1],'C3':f1Data[:,2],'C4':f1Data[:,3],'C5':f1Data[:,4]})\n",
    "for i in range(pd_f1.shape[0]):\n",
    "    for j in range(pd_f1.shape[1]):\n",
    "        pd_f1.iloc[i,j]=(pd_f1.iloc[i,j]-np.mean(pd_f1.iloc[i,:]))/np.std(pd_f1.iloc[i,:])\n",
    "\n",
    "pd_f2=pd.DataFrame({'C1':f2Data[:,0],'C2':f2Data[:,1],'C3':f2Data[:,2],'C4':f2Data[:,3],'C5':f2Data[:,4]})\n",
    "mZ1 = pd_f1[0:100].mean(axis = 0)\n",
    "sdZ1 = pd_f1[0:100].std(axis = 0)\n",
    "mF2 = pd_f2[0:100].mean(axis = 0)\n",
    "sdF2 = pd_f2[0:100].std(axis = 0)\n",
    "valueDF = mProbabValue(pd_f1,pd_f2,mZ1,sdZ1,mF2,sdF2)\n",
    " \n",
    "accuracyCase4 = find_accuracy(valueDF)\n",
    "errorCase4 = 100 - accuracyCase4"
   ]
  },
  {
   "cell_type": "code",
   "execution_count": 131,
   "metadata": {},
   "outputs": [
    {
     "name": "stdout",
     "output_type": "stream",
     "text": [
      "Prediction accuracy for X=[Z1,F2] is: 89.76, and error is: 10.24\n"
     ]
    }
   ],
   "source": [
    "print(\"Prediction accuracy for X=[Z1,F2] is: \"+str(round(accuracyCase4, 2)) +\", and error is: \"+ str(round(errorCase4, 2)))\n"
   ]
  }
 ],
 "metadata": {
  "hide_input": false,
  "kernelspec": {
   "display_name": "Python 3",
   "language": "python",
   "name": "python3"
  },
  "language_info": {
   "codemirror_mode": {
    "name": "ipython",
    "version": 3
   },
   "file_extension": ".py",
   "mimetype": "text/x-python",
   "name": "python",
   "nbconvert_exporter": "python",
   "pygments_lexer": "ipython3",
   "version": "3.7.4"
  }
 },
 "nbformat": 4,
 "nbformat_minor": 2
}
